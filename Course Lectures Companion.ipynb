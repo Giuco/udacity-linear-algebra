{
 "cells": [
  {
   "cell_type": "markdown",
   "metadata": {},
   "source": [
    "# Linear Algebra Refresher Course\n",
    "\n",
    "This mini-course is intended for students who would like a refresher on the basics of linear algebra. The course attempts to provide the motivation for \"why\" linear algebra is important in addition to \"what\" linear algebra is.\n",
    "\n",
    "Students will learn concepts in linear algebra by applying them in computer programs. At the end of the course, you will have coded your own personal library of linear algebra functions that you can use to solve real-world problems.\n",
    "\n",
    "https://br.udacity.com/course/linear-algebra-refresher-course--ud953"
   ]
  },
  {
   "cell_type": "markdown",
   "metadata": {},
   "source": [
    "## Lesson 2 - Vectors"
   ]
  },
  {
   "cell_type": "markdown",
   "metadata": {},
   "source": [
    "### 2 - The vector module"
   ]
  },
  {
   "cell_type": "code",
   "execution_count": null,
   "metadata": {},
   "outputs": [],
   "source": [
    "class Vector(object):\n",
    "    def __init__(self, coordinates):\n",
    "        try:\n",
    "            if not coordinates:\n",
    "                raise ValueError\n",
    "            self.coordinates = tuple(coordinates)\n",
    "            self.dimension = len(coordinates)\n",
    "\n",
    "        except ValueError:\n",
    "            raise ValueError('The coordinates must be nonempty')\n",
    "\n",
    "        except TypeError:\n",
    "            raise TypeError('The coordinates must be an iterable')\n",
    "\n",
    "\n",
    "    def __str__(self):\n",
    "        return 'Vector: {}'.format(self.coordinates)\n",
    "\n",
    "\n",
    "    def __eq__(self, v):\n",
    "        return self.coordinates == v.coordinates\n"
   ]
  },
  {
   "cell_type": "code",
   "execution_count": null,
   "metadata": {},
   "outputs": [],
   "source": [
    "myvector = Vector([1,2,3])"
   ]
  },
  {
   "cell_type": "code",
   "execution_count": null,
   "metadata": {},
   "outputs": [],
   "source": [
    "print(dir(myvector))"
   ]
  },
  {
   "cell_type": "code",
   "execution_count": null,
   "metadata": {},
   "outputs": [],
   "source": [
    "print(myvector)\n",
    "print(myvector.coordinates)\n",
    "print('The vector dimension is', myvector.dimension)"
   ]
  },
  {
   "cell_type": "code",
   "execution_count": null,
   "metadata": {},
   "outputs": [],
   "source": [
    "myvector2 = Vector([1, 2, 3])\n",
    "myvector3 = Vector([1, 3, 2])"
   ]
  },
  {
   "cell_type": "code",
   "execution_count": null,
   "metadata": {},
   "outputs": [],
   "source": [
    "print(myvector == myvector2)\n",
    "print(myvector == myvector3)"
   ]
  },
  {
   "cell_type": "markdown",
   "metadata": {},
   "source": [
    "### 4 - Quiz - Plus, Minus, Scalar Multiply\n",
    "\n",
    "Modify the Vector Class to allow Plus, Minus and Scalar multiply operations, then test on the vector below\n",
    "\n",
    "<img src=\"img/quiz_2_4.png\" alt=\"Quiz 2-4\" style=\"width: 700px;\"/>"
   ]
  },
  {
   "cell_type": "markdown",
   "metadata": {},
   "source": [
    "#### Vector Class"
   ]
  },
  {
   "cell_type": "code",
   "execution_count": 37,
   "metadata": {},
   "outputs": [],
   "source": [
    "class Vector(object):\n",
    "    def __init__(self, coordinates):\n",
    "        try:\n",
    "            if not coordinates:\n",
    "                raise ValueError\n",
    "            self.coordinates = tuple(coordinates)\n",
    "            self.dimension = len(coordinates)\n",
    "\n",
    "        except ValueError:\n",
    "            raise ValueError('The coordinates must be nonempty')\n",
    "\n",
    "        except TypeError:\n",
    "            raise TypeError('The coordinates must be an iterable')\n",
    "\n",
    "\n",
    "    def __str__(self):\n",
    "        return 'Vector: {}'.format(self.coordinates)\n",
    "\n",
    "\n",
    "    def __eq__(self, v):\n",
    "        return self.coordinates == v.coordinates\n",
    "    \n",
    "    def sum(self, v):\n",
    "        if not isinstance(v, Vector):\n",
    "            raise TypeError('It needs to be a vector')\n",
    "            \n",
    "        if not self.dimension == v.dimension:\n",
    "            raise ValueError('The vectors needs to be the same size')\n",
    "        \n",
    "        nv = [a + b for (a, b) in zip(self.coordinates, v.coordinates)]\n",
    "                    \n",
    "        return Vector(nv)\n",
    "\n",
    "    def minus(self, v):\n",
    "        \n",
    "        if not isinstance(v, Vector):\n",
    "            raise TypeError('It needs to be a vector')\n",
    "            \n",
    "        if not self.dimension == v.dimension:\n",
    "            raise ValueError('The vectors needs to be the same size')\n",
    "        \n",
    "        nv = []\n",
    "        \n",
    "        nv = [a - b for (a, b) in zip(self.coordinates, v.coordinates)]\n",
    "            \n",
    "        return Vector(nv)\n",
    "    \n",
    "    def scalar_multiply(self, s):\n",
    "        \n",
    "        if not (isinstance(s, int) or  isinstance(s, float)):\n",
    "            raise TypeError('It needs to be an integer or a float')\n",
    "            \n",
    "        nv = [e * s for e in self.coordinates]\n",
    "                    \n",
    "        return Vector(nv)\n",
    "        "
   ]
  },
  {
   "cell_type": "markdown",
   "metadata": {},
   "source": [
    "#### Data"
   ]
  },
  {
   "cell_type": "code",
   "execution_count": 38,
   "metadata": {},
   "outputs": [],
   "source": [
    "a_1 = Vector([8.218, -9.341])\n",
    "a_2 = Vector([-1.129, 2.111])\n",
    "b_1 = Vector([7.119, 8.215])\n",
    "b_2 = Vector([-8.223, 0.878])\n",
    "c_1 = 7.41\n",
    "c_2 = Vector([1.671, -1.012, -0.318])"
   ]
  },
  {
   "cell_type": "markdown",
   "metadata": {},
   "source": [
    "#### Testing error handling just for the coding fun"
   ]
  },
  {
   "cell_type": "code",
   "execution_count": 39,
   "metadata": {},
   "outputs": [
    {
     "ename": "ValueError",
     "evalue": "The vectors needs to be the same size",
     "output_type": "error",
     "traceback": [
      "\u001b[1;31m---------------------------------------------------------------------------\u001b[0m",
      "\u001b[1;31mValueError\u001b[0m                                Traceback (most recent call last)",
      "\u001b[1;32m<ipython-input-39-12c7d11db9f4>\u001b[0m in \u001b[0;36m<module>\u001b[1;34m\u001b[0m\n\u001b[1;32m----> 1\u001b[1;33m \u001b[0ma_1\u001b[0m\u001b[1;33m.\u001b[0m\u001b[0msum\u001b[0m\u001b[1;33m(\u001b[0m\u001b[0mc_2\u001b[0m\u001b[1;33m)\u001b[0m\u001b[1;33m\u001b[0m\u001b[1;33m\u001b[0m\u001b[0m\n\u001b[0m",
      "\u001b[1;32m<ipython-input-37-5c7bc31fca33>\u001b[0m in \u001b[0;36msum\u001b[1;34m(self, v)\u001b[0m\n\u001b[0;32m     26\u001b[0m \u001b[1;33m\u001b[0m\u001b[0m\n\u001b[0;32m     27\u001b[0m         \u001b[1;32mif\u001b[0m \u001b[1;32mnot\u001b[0m \u001b[0mself\u001b[0m\u001b[1;33m.\u001b[0m\u001b[0mdimension\u001b[0m \u001b[1;33m==\u001b[0m \u001b[0mv\u001b[0m\u001b[1;33m.\u001b[0m\u001b[0mdimension\u001b[0m\u001b[1;33m:\u001b[0m\u001b[1;33m\u001b[0m\u001b[1;33m\u001b[0m\u001b[0m\n\u001b[1;32m---> 28\u001b[1;33m             \u001b[1;32mraise\u001b[0m \u001b[0mValueError\u001b[0m\u001b[1;33m(\u001b[0m\u001b[1;34m'The vectors needs to be the same size'\u001b[0m\u001b[1;33m)\u001b[0m\u001b[1;33m\u001b[0m\u001b[1;33m\u001b[0m\u001b[0m\n\u001b[0m\u001b[0;32m     29\u001b[0m \u001b[1;33m\u001b[0m\u001b[0m\n\u001b[0;32m     30\u001b[0m         \u001b[0mnv\u001b[0m \u001b[1;33m=\u001b[0m \u001b[1;33m[\u001b[0m\u001b[0ma\u001b[0m \u001b[1;33m+\u001b[0m \u001b[0mb\u001b[0m \u001b[1;32mfor\u001b[0m \u001b[1;33m(\u001b[0m\u001b[0ma\u001b[0m\u001b[1;33m,\u001b[0m \u001b[0mb\u001b[0m\u001b[1;33m)\u001b[0m \u001b[1;32min\u001b[0m \u001b[0mzip\u001b[0m\u001b[1;33m(\u001b[0m\u001b[0mself\u001b[0m\u001b[1;33m.\u001b[0m\u001b[0mcoordinates\u001b[0m\u001b[1;33m,\u001b[0m \u001b[0mv\u001b[0m\u001b[1;33m.\u001b[0m\u001b[0mcoordinates\u001b[0m\u001b[1;33m)\u001b[0m\u001b[1;33m]\u001b[0m\u001b[1;33m\u001b[0m\u001b[1;33m\u001b[0m\u001b[0m\n",
      "\u001b[1;31mValueError\u001b[0m: The vectors needs to be the same size"
     ]
    }
   ],
   "source": [
    "a_1.sum(c_2)"
   ]
  },
  {
   "cell_type": "code",
   "execution_count": 40,
   "metadata": {},
   "outputs": [
    {
     "ename": "TypeError",
     "evalue": "It needs to be a vector",
     "output_type": "error",
     "traceback": [
      "\u001b[1;31m---------------------------------------------------------------------------\u001b[0m",
      "\u001b[1;31mTypeError\u001b[0m                                 Traceback (most recent call last)",
      "\u001b[1;32m<ipython-input-40-f1ccc387d143>\u001b[0m in \u001b[0;36m<module>\u001b[1;34m\u001b[0m\n\u001b[1;32m----> 1\u001b[1;33m \u001b[0ma_2\u001b[0m\u001b[1;33m.\u001b[0m\u001b[0mminus\u001b[0m\u001b[1;33m(\u001b[0m\u001b[0mc_1\u001b[0m\u001b[1;33m)\u001b[0m\u001b[1;33m\u001b[0m\u001b[1;33m\u001b[0m\u001b[0m\n\u001b[0m",
      "\u001b[1;32m<ipython-input-37-5c7bc31fca33>\u001b[0m in \u001b[0;36mminus\u001b[1;34m(self, v)\u001b[0m\n\u001b[0;32m     35\u001b[0m \u001b[1;33m\u001b[0m\u001b[0m\n\u001b[0;32m     36\u001b[0m         \u001b[1;32mif\u001b[0m \u001b[1;32mnot\u001b[0m \u001b[0misinstance\u001b[0m\u001b[1;33m(\u001b[0m\u001b[0mv\u001b[0m\u001b[1;33m,\u001b[0m \u001b[0mVector\u001b[0m\u001b[1;33m)\u001b[0m\u001b[1;33m:\u001b[0m\u001b[1;33m\u001b[0m\u001b[1;33m\u001b[0m\u001b[0m\n\u001b[1;32m---> 37\u001b[1;33m             \u001b[1;32mraise\u001b[0m \u001b[0mTypeError\u001b[0m\u001b[1;33m(\u001b[0m\u001b[1;34m'It needs to be a vector'\u001b[0m\u001b[1;33m)\u001b[0m\u001b[1;33m\u001b[0m\u001b[1;33m\u001b[0m\u001b[0m\n\u001b[0m\u001b[0;32m     38\u001b[0m \u001b[1;33m\u001b[0m\u001b[0m\n\u001b[0;32m     39\u001b[0m         \u001b[1;32mif\u001b[0m \u001b[1;32mnot\u001b[0m \u001b[0mself\u001b[0m\u001b[1;33m.\u001b[0m\u001b[0mdimension\u001b[0m \u001b[1;33m==\u001b[0m \u001b[0mv\u001b[0m\u001b[1;33m.\u001b[0m\u001b[0mdimension\u001b[0m\u001b[1;33m:\u001b[0m\u001b[1;33m\u001b[0m\u001b[1;33m\u001b[0m\u001b[0m\n",
      "\u001b[1;31mTypeError\u001b[0m: It needs to be a vector"
     ]
    }
   ],
   "source": [
    "a_2.minus(c_1)"
   ]
  },
  {
   "cell_type": "code",
   "execution_count": 41,
   "metadata": {},
   "outputs": [
    {
     "ename": "TypeError",
     "evalue": "It needs to be an integer or a float",
     "output_type": "error",
     "traceback": [
      "\u001b[1;31m---------------------------------------------------------------------------\u001b[0m",
      "\u001b[1;31mTypeError\u001b[0m                                 Traceback (most recent call last)",
      "\u001b[1;32m<ipython-input-41-d2b569c96fe3>\u001b[0m in \u001b[0;36m<module>\u001b[1;34m\u001b[0m\n\u001b[1;32m----> 1\u001b[1;33m \u001b[0mb_1\u001b[0m\u001b[1;33m.\u001b[0m\u001b[0mscalar_multiply\u001b[0m\u001b[1;33m(\u001b[0m\u001b[0ma_1\u001b[0m\u001b[1;33m)\u001b[0m\u001b[1;33m\u001b[0m\u001b[1;33m\u001b[0m\u001b[0m\n\u001b[0m",
      "\u001b[1;32m<ipython-input-37-5c7bc31fca33>\u001b[0m in \u001b[0;36mscalar_multiply\u001b[1;34m(self, s)\u001b[0m\n\u001b[0;32m     49\u001b[0m \u001b[1;33m\u001b[0m\u001b[0m\n\u001b[0;32m     50\u001b[0m         \u001b[1;32mif\u001b[0m \u001b[1;32mnot\u001b[0m \u001b[1;33m(\u001b[0m\u001b[0misinstance\u001b[0m\u001b[1;33m(\u001b[0m\u001b[0ms\u001b[0m\u001b[1;33m,\u001b[0m \u001b[0mint\u001b[0m\u001b[1;33m)\u001b[0m \u001b[1;32mor\u001b[0m  \u001b[0misinstance\u001b[0m\u001b[1;33m(\u001b[0m\u001b[0ms\u001b[0m\u001b[1;33m,\u001b[0m \u001b[0mfloat\u001b[0m\u001b[1;33m)\u001b[0m\u001b[1;33m)\u001b[0m\u001b[1;33m:\u001b[0m\u001b[1;33m\u001b[0m\u001b[1;33m\u001b[0m\u001b[0m\n\u001b[1;32m---> 51\u001b[1;33m             \u001b[1;32mraise\u001b[0m \u001b[0mTypeError\u001b[0m\u001b[1;33m(\u001b[0m\u001b[1;34m'It needs to be an integer or a float'\u001b[0m\u001b[1;33m)\u001b[0m\u001b[1;33m\u001b[0m\u001b[1;33m\u001b[0m\u001b[0m\n\u001b[0m\u001b[0;32m     52\u001b[0m \u001b[1;33m\u001b[0m\u001b[0m\n\u001b[0;32m     53\u001b[0m         \u001b[0mnv\u001b[0m \u001b[1;33m=\u001b[0m \u001b[1;33m[\u001b[0m\u001b[0me\u001b[0m \u001b[1;33m*\u001b[0m \u001b[0ms\u001b[0m \u001b[1;32mfor\u001b[0m \u001b[0me\u001b[0m \u001b[1;32min\u001b[0m \u001b[0mself\u001b[0m\u001b[1;33m.\u001b[0m\u001b[0mcoordinates\u001b[0m\u001b[1;33m]\u001b[0m\u001b[1;33m\u001b[0m\u001b[1;33m\u001b[0m\u001b[0m\n",
      "\u001b[1;31mTypeError\u001b[0m: It needs to be an integer or a float"
     ]
    }
   ],
   "source": [
    "b_1.scalar_multiply(a_1)"
   ]
  },
  {
   "cell_type": "markdown",
   "metadata": {},
   "source": [
    "#### Examples "
   ]
  },
  {
   "cell_type": "code",
   "execution_count": 42,
   "metadata": {},
   "outputs": [
    {
     "name": "stdout",
     "output_type": "stream",
     "text": [
      "(A) answer is -> [7.089, -7.23]\n"
     ]
    }
   ],
   "source": [
    "a_answer = a_1.sum(a_2)\n",
    "a_format_answer = tuple([round(x, 3) for x in a_answer.coordinates])\n",
    "print('(A) answer is -> {}'.format(a_format_answer))"
   ]
  },
  {
   "cell_type": "code",
   "execution_count": 43,
   "metadata": {},
   "outputs": [
    {
     "name": "stdout",
     "output_type": "stream",
     "text": [
      "(B) answer is -> [15.342, 7.337]\n"
     ]
    }
   ],
   "source": [
    "b_answer = b_1.minus(b_2)\n",
    "b_format_answer = tuple([round(x, 3) for x in b_answer.coordinates])\n",
    "print('(B) answer is -> {}'.format(b_format_answer))"
   ]
  },
  {
   "cell_type": "code",
   "execution_count": 44,
   "metadata": {},
   "outputs": [
    {
     "name": "stdout",
     "output_type": "stream",
     "text": [
      "(C) answer is -> [12.382, -7.499, -2.356]\n"
     ]
    }
   ],
   "source": [
    "c_answer = c_2.scalar_multiply(c_1)\n",
    "c_format_answer = [round(x, 3) for x in c_answer.coordinates]\n",
    "print('(C) answer is -> {}'.format(c_format_answer))"
   ]
  },
  {
   "cell_type": "markdown",
   "metadata": {},
   "source": [
    "### 6 - Quiz - Coding Magnitude & Direction\n",
    "\n",
    "Modify the Vector Class to allow Coding Magnitude & Direction operations, then test on the vectors below\n",
    "\n",
    "<img src=\"img/quiz_2_6.png\" alt=\"Quiz 2-6\" style=\"width: 700px;\"/>"
   ]
  },
  {
   "cell_type": "code",
   "execution_count": 63,
   "metadata": {},
   "outputs": [],
   "source": [
    "class Vector(object):\n",
    "    def __init__(self, coordinates):\n",
    "        try:\n",
    "            if not coordinates:\n",
    "                raise ValueError\n",
    "            self.coordinates = tuple(coordinates)\n",
    "            self.dimension = len(coordinates)\n",
    "\n",
    "        except ValueError:\n",
    "            raise ValueError('The coordinates must be nonempty')\n",
    "\n",
    "        except TypeError:\n",
    "            raise TypeError('The coordinates must be an iterable')\n",
    "\n",
    "\n",
    "    def __str__(self):\n",
    "        return 'Vector: {}'.format(self.coordinates)\n",
    "\n",
    "\n",
    "    def __eq__(self, v):\n",
    "        return self.coordinates == v.coordinates\n",
    "    \n",
    "    def sum(self, v):\n",
    "        if not isinstance(v, Vector):\n",
    "            raise TypeError('It needs to be a vector')\n",
    "            \n",
    "        if not self.dimension == v.dimension:\n",
    "            raise ValueError('The vectors needs to be the same size')\n",
    "        \n",
    "        nv = [a + b for (a, b) in zip(self.coordinates, v.coordinates)]\n",
    "                    \n",
    "        return Vector(nv)\n",
    "\n",
    "    def minus(self, v):\n",
    "        \n",
    "        if not isinstance(v, Vector):\n",
    "            raise TypeError('It needs to be a vector')\n",
    "            \n",
    "        if not self.dimension == v.dimension:\n",
    "            raise ValueError('The vectors needs to be the same size')\n",
    "        \n",
    "        nv = []\n",
    "        \n",
    "        nv = [a - b for (a, b) in zip(self.coordinates, v.coordinates)]\n",
    "            \n",
    "        return Vector(nv)\n",
    "    \n",
    "    def scalar_multiply(self, s):\n",
    "        \n",
    "        if not (isinstance(s, int) or  isinstance(s, float)):\n",
    "            raise TypeError('It needs to be an integer or a float')\n",
    "            \n",
    "        nv = [e * s for e in self.coordinates]\n",
    "                    \n",
    "        return Vector(nv)\n",
    "    \n",
    "    @property\n",
    "    def magnitude(self):\n",
    "        from math import sqrt\n",
    "        return float(sqrt(sum([x**2 for x in self.coordinates])))\n",
    "    \n",
    "    @property\n",
    "    def normalized(self):\n",
    "        from math import sqrt\n",
    "        \n",
    "        if self.magnitude == 0.0:\n",
    "            return None\n",
    "        \n",
    "        return self.scalar_multiply(1.0/self.magnitude)\n",
    "        \n",
    "        "
   ]
  },
  {
   "cell_type": "markdown",
   "metadata": {},
   "source": [
    "#### Data"
   ]
  },
  {
   "cell_type": "code",
   "execution_count": 64,
   "metadata": {},
   "outputs": [],
   "source": [
    "a = Vector([-0.221, 7.437])\n",
    "b = Vector([8.813, -1.331, -6.247])\n",
    "c = Vector([5.581, -2.136])\n",
    "d = Vector([1.996, 3.108, -4.554])\n",
    "\n",
    "data = (a, b, c, d)"
   ]
  },
  {
   "cell_type": "markdown",
   "metadata": {},
   "source": [
    "#### Answer"
   ]
  },
  {
   "cell_type": "code",
   "execution_count": 66,
   "metadata": {},
   "outputs": [
    {
     "name": "stdout",
     "output_type": "stream",
     "text": [
      "0.\n",
      "The magnitude of vector (-0.221, 7.437) is 7.440. And the direction is (-0.03, 1.0) \n",
      "\n",
      "1.\n",
      "The magnitude of vector (8.813, -1.331, -6.247) is 10.884. And the direction is (0.81, -0.122, -0.574) \n",
      "\n",
      "2.\n",
      "The magnitude of vector (5.581, -2.136) is 5.976. And the direction is (0.934, -0.357) \n",
      "\n",
      "3.\n",
      "The magnitude of vector (1.996, 3.108, -4.554) is 5.864. And the direction is (0.34, 0.53, -0.777) \n",
      "\n"
     ]
    }
   ],
   "source": [
    "for v, i in zip(data, range(len(data))):\n",
    "    print(\"{}.\".format(i))\n",
    "    format_direction = tuple([round(x, 3) for x in v.normalized.coordinates])\n",
    "    print(\"The magnitude of vector {0.coordinates} is {0.magnitude:.3f}. And the direction is {1} \\n\".format(v, format_direction))"
   ]
  },
  {
   "cell_type": "code",
   "execution_count": null,
   "metadata": {},
   "outputs": [],
   "source": []
  }
 ],
 "metadata": {
  "kernelspec": {
   "display_name": "Python 3",
   "language": "python",
   "name": "python3"
  },
  "language_info": {
   "codemirror_mode": {
    "name": "ipython",
    "version": 3
   },
   "file_extension": ".py",
   "mimetype": "text/x-python",
   "name": "python",
   "nbconvert_exporter": "python",
   "pygments_lexer": "ipython3",
   "version": "3.6.7"
  }
 },
 "nbformat": 4,
 "nbformat_minor": 2
}
