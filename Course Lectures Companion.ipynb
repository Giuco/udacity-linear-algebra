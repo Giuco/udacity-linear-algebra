{
 "cells": [
  {
   "cell_type": "markdown",
   "metadata": {},
   "source": [
    "# Linear Algebra Refresher Course\n",
    "\n",
    "This mini-course is intended for students who would like a refresher on the basics of linear algebra. The course attempts to provide the motivation for \"why\" linear algebra is important in addition to \"what\" linear algebra is.\n",
    "\n",
    "Students will learn concepts in linear algebra by applying them in computer programs. At the end of the course, you will have coded your own personal library of linear algebra functions that you can use to solve real-world problems.\n",
    "\n",
    "https://br.udacity.com/course/linear-algebra-refresher-course--ud953"
   ]
  },
  {
   "cell_type": "markdown",
   "metadata": {},
   "source": [
    "## Lesson 2 - Vectors"
   ]
  },
  {
   "cell_type": "markdown",
   "metadata": {},
   "source": [
    "### 2 - The vector module"
   ]
  },
  {
   "cell_type": "code",
   "execution_count": null,
   "metadata": {},
   "outputs": [],
   "source": [
    "class Vector(object):\n",
    "    def __init__(self, coordinates):\n",
    "        try:\n",
    "            if not coordinates:\n",
    "                raise ValueError\n",
    "            self.coordinates = tuple(coordinates)\n",
    "            self.dimension = len(coordinates)\n",
    "\n",
    "        except ValueError:\n",
    "            raise ValueError('The coordinates must be nonempty')\n",
    "\n",
    "        except TypeError:\n",
    "            raise TypeError('The coordinates must be an iterable')\n",
    "\n",
    "\n",
    "    def __str__(self):\n",
    "        return 'Vector: {}'.format(self.coordinates)\n",
    "\n",
    "\n",
    "    def __eq__(self, v):\n",
    "        return self.coordinates == v.coordinates\n"
   ]
  },
  {
   "cell_type": "code",
   "execution_count": null,
   "metadata": {},
   "outputs": [],
   "source": [
    "myvector = Vector([1,2,3])"
   ]
  },
  {
   "cell_type": "code",
   "execution_count": null,
   "metadata": {},
   "outputs": [],
   "source": [
    "print(dir(myvector))"
   ]
  },
  {
   "cell_type": "code",
   "execution_count": null,
   "metadata": {},
   "outputs": [],
   "source": [
    "print(myvector)\n",
    "print(myvector.coordinates)\n",
    "print('The vector dimension is', myvector.dimension)"
   ]
  },
  {
   "cell_type": "code",
   "execution_count": null,
   "metadata": {},
   "outputs": [],
   "source": [
    "myvector2 = Vector([1, 2, 3])\n",
    "myvector3 = Vector([1, 3, 2])"
   ]
  },
  {
   "cell_type": "code",
   "execution_count": null,
   "metadata": {},
   "outputs": [],
   "source": [
    "print(myvector == myvector2)\n",
    "print(myvector == myvector3)"
   ]
  },
  {
   "cell_type": "markdown",
   "metadata": {},
   "source": [
    "### 4 - Quiz - Plus, Minus, Scalar Multiply\n",
    "\n",
    "Modify the Vector Class to allow Plus, Minus and Scalar multiply operations, then test on the vector below\n",
    "\n",
    "![Quiz 2-4](img/quiz_2_4.png)"
   ]
  },
  {
   "cell_type": "markdown",
   "metadata": {},
   "source": [
    "#### Vector Class"
   ]
  },
  {
   "cell_type": "code",
   "execution_count": 11,
   "metadata": {},
   "outputs": [],
   "source": [
    "class Vector(object):\n",
    "    def __init__(self, coordinates):\n",
    "        try:\n",
    "            if not coordinates:\n",
    "                raise ValueError\n",
    "            self.coordinates = tuple(coordinates)\n",
    "            self.dimension = len(coordinates)\n",
    "\n",
    "        except ValueError:\n",
    "            raise ValueError('The coordinates must be nonempty')\n",
    "\n",
    "        except TypeError:\n",
    "            raise TypeError('The coordinates must be an iterable')\n",
    "\n",
    "\n",
    "    def __str__(self):\n",
    "        return 'Vector: {}'.format(self.coordinates)\n",
    "\n",
    "\n",
    "    def __eq__(self, v):\n",
    "        return self.coordinates == v.coordinates\n",
    "    \n",
    "    def sum(self, v):\n",
    "        if not isinstance(v, Vector):\n",
    "            raise TypeError('It needs to be a vector')\n",
    "            \n",
    "        if not self.dimension == v.dimension:\n",
    "            raise ValueError('The vectors needs to be the same size')\n",
    "        \n",
    "        nv = [a + b for (a, b) in zip(self.coordinates, v.coordinates)]\n",
    "                    \n",
    "        return Vector(nv)\n",
    "\n",
    "    def minus(self, v):\n",
    "        \n",
    "        if not isinstance(v, Vector):\n",
    "            raise TypeError('It needs to be a vector')\n",
    "            \n",
    "        if not self.dimension == v.dimension:\n",
    "            raise ValueError('The vectors needs to be the same size')\n",
    "        \n",
    "        nv = []\n",
    "        \n",
    "        nv = [a - b for (a, b) in zip(self.coordinates, v.coordinates)]\n",
    "            \n",
    "        return Vector(nv)\n",
    "    \n",
    "    def scalar_multiply(self, s):\n",
    "        \n",
    "        if not (isinstance(s, int) or  isinstance(s, float)):\n",
    "            raise TypeError('It needs to be an integer or a float')\n",
    "            \n",
    "        nv = [e * s for e in self.coordinates]\n",
    "                    \n",
    "        return Vector(nv)\n",
    "        "
   ]
  },
  {
   "cell_type": "markdown",
   "metadata": {},
   "source": [
    "#### Data"
   ]
  },
  {
   "cell_type": "code",
   "execution_count": 12,
   "metadata": {},
   "outputs": [],
   "source": [
    "a_1 = Vector([8.218, -9.341])\n",
    "a_2 = Vector([-1.129, 2.111])\n",
    "b_1 = Vector([7.119, 8.215])\n",
    "b_2 = Vector([-8.223, 0.878])\n",
    "c_1 = 7.41\n",
    "c_2 = Vector([1.671, -1.012, -0.318])"
   ]
  },
  {
   "cell_type": "markdown",
   "metadata": {},
   "source": [
    "#### Testing error handling just for the coding fun"
   ]
  },
  {
   "cell_type": "code",
   "execution_count": null,
   "metadata": {},
   "outputs": [],
   "source": [
    "a_1.sum(c_2)"
   ]
  },
  {
   "cell_type": "code",
   "execution_count": null,
   "metadata": {},
   "outputs": [],
   "source": [
    "a_2.minus(c_1)"
   ]
  },
  {
   "cell_type": "code",
   "execution_count": null,
   "metadata": {},
   "outputs": [],
   "source": [
    "b_1.scalar_multiply(a_1)"
   ]
  },
  {
   "cell_type": "markdown",
   "metadata": {},
   "source": [
    "### Examples "
   ]
  },
  {
   "cell_type": "code",
   "execution_count": 13,
   "metadata": {},
   "outputs": [
    {
     "name": "stdout",
     "output_type": "stream",
     "text": [
      "(A) answer is -> [7.089, -7.23]\n"
     ]
    }
   ],
   "source": [
    "a_answer = a_1.sum(a_2)\n",
    "a_format_answer = [round(x, 3) for x in a_answer.coordinates]\n",
    "print('(A) answer is -> {}'.format(a_format_answer))"
   ]
  },
  {
   "cell_type": "code",
   "execution_count": 14,
   "metadata": {},
   "outputs": [
    {
     "name": "stdout",
     "output_type": "stream",
     "text": [
      "(B) answer is -> [15.342, 7.337]\n"
     ]
    }
   ],
   "source": [
    "b_answer = b_1.minus(b_2)\n",
    "b_format_answer = [round(x, 3) for x in b_answer.coordinates]\n",
    "print('(B) answer is -> {}'.format(b_format_answer))"
   ]
  },
  {
   "cell_type": "code",
   "execution_count": 15,
   "metadata": {},
   "outputs": [
    {
     "name": "stdout",
     "output_type": "stream",
     "text": [
      "(C) answer is -> [12.382, -7.499, -2.356]\n"
     ]
    }
   ],
   "source": [
    "c_answer = c_2.scalar_multiply(c_1)\n",
    "c_format_answer = [round(x, 3) for x in c_answer.coordinates]\n",
    "print('(C) answer is -> {}'.format(c_format_answer))"
   ]
  }
 ],
 "metadata": {
  "kernelspec": {
   "display_name": "Python 3",
   "language": "python",
   "name": "python3"
  },
  "language_info": {
   "codemirror_mode": {
    "name": "ipython",
    "version": 3
   },
   "file_extension": ".py",
   "mimetype": "text/x-python",
   "name": "python",
   "nbconvert_exporter": "python",
   "pygments_lexer": "ipython3",
   "version": "3.6.7"
  }
 },
 "nbformat": 4,
 "nbformat_minor": 2
}
