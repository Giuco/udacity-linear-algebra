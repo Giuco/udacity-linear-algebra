{
 "cells": [
  {
   "cell_type": "markdown",
   "metadata": {},
   "source": [
    "# Linear Algebra Refresher Course\n",
    "\n",
    "This mini-course is intended for students who would like a refresher on the basics of linear algebra. The course attempts to provide the motivation for \"why\" linear algebra is important in addition to \"what\" linear algebra is.\n",
    "\n",
    "Students will learn concepts in linear algebra by applying them in computer programs. At the end of the course, you will have coded your own personal library of linear algebra functions that you can use to solve real-world problems.\n",
    "\n",
    "https://br.udacity.com/course/linear-algebra-refresher-course--ud953"
   ]
  },
  {
   "cell_type": "markdown",
   "metadata": {},
   "source": [
    "## Lesson 2 - Vectors"
   ]
  },
  {
   "cell_type": "markdown",
   "metadata": {},
   "source": [
    "### 2 - The vector module"
   ]
  },
  {
   "cell_type": "code",
   "execution_count": null,
   "metadata": {},
   "outputs": [],
   "source": [
    "class Vector(object):\n",
    "    def __init__(self, coordinates):\n",
    "        try:\n",
    "            if not coordinates:\n",
    "                raise ValueError\n",
    "            self.coordinates = tuple(coordinates)\n",
    "            self.dimension = len(coordinates)\n",
    "\n",
    "        except ValueError:\n",
    "            raise ValueError('The coordinates must be nonempty')\n",
    "\n",
    "        except TypeError:\n",
    "            raise TypeError('The coordinates must be an iterable')\n",
    "\n",
    "\n",
    "    def __str__(self):\n",
    "        return 'Vector: {}'.format(self.coordinates)\n",
    "\n",
    "\n",
    "    def __eq__(self, v):\n",
    "        return self.coordinates == v.coordinates\n"
   ]
  },
  {
   "cell_type": "code",
   "execution_count": null,
   "metadata": {},
   "outputs": [],
   "source": [
    "myvector = Vector([1,2,3])"
   ]
  },
  {
   "cell_type": "code",
   "execution_count": null,
   "metadata": {},
   "outputs": [],
   "source": [
    "print(dir(myvector))"
   ]
  },
  {
   "cell_type": "code",
   "execution_count": null,
   "metadata": {},
   "outputs": [],
   "source": [
    "print(myvector)\n",
    "print(myvector.coordinates)\n",
    "print('The vector dimension is', myvector.dimension)"
   ]
  },
  {
   "cell_type": "code",
   "execution_count": null,
   "metadata": {},
   "outputs": [],
   "source": [
    "myvector2 = Vector([1, 2, 3])\n",
    "myvector3 = Vector([1, 3, 2])"
   ]
  },
  {
   "cell_type": "code",
   "execution_count": null,
   "metadata": {},
   "outputs": [],
   "source": [
    "print(myvector == myvector2)\n",
    "print(myvector == myvector3)"
   ]
  },
  {
   "cell_type": "markdown",
   "metadata": {},
   "source": [
    "### 4 - Quiz - Plus, Minus, Scalar Multiply\n",
    "\n",
    "Modify the Vector Class to allow Plus, Minus and Scalar multiply operations, then test on the vector below\n",
    "\n",
    "<img src=\"img/quiz_2_4.png\" alt=\"Quiz 2-4\" style=\"width: 400px;\"/>"
   ]
  },
  {
   "cell_type": "markdown",
   "metadata": {},
   "source": [
    "#### Vector Class"
   ]
  },
  {
   "cell_type": "code",
   "execution_count": null,
   "metadata": {},
   "outputs": [],
   "source": [
    "class Vector(object):\n",
    "    def __init__(self, coordinates):\n",
    "        try:\n",
    "            if not coordinates:\n",
    "                raise ValueError\n",
    "            self.coordinates = tuple(coordinates)\n",
    "            self.dimension = len(coordinates)\n",
    "\n",
    "        except ValueError:\n",
    "            raise ValueError('The coordinates must be nonempty')\n",
    "\n",
    "        except TypeError:\n",
    "            raise TypeError('The coordinates must be an iterable')\n",
    "\n",
    "\n",
    "    def __str__(self):\n",
    "        return 'Vector: {}'.format(self.coordinates)\n",
    "\n",
    "\n",
    "    def __eq__(self, v):\n",
    "        return self.coordinates == v.coordinates\n",
    "    \n",
    "    def sum(self, v):\n",
    "        if not isinstance(v, Vector):\n",
    "            raise TypeError('It needs to be a vector')\n",
    "            \n",
    "        if not self.dimension == v.dimension:\n",
    "            raise ValueError('The vectors needs to be the same size')\n",
    "        \n",
    "        nv = [a + b for (a, b) in zip(self.coordinates, v.coordinates)]\n",
    "                    \n",
    "        return Vector(nv)\n",
    "\n",
    "    def minus(self, v):\n",
    "        \n",
    "        if not isinstance(v, Vector):\n",
    "            raise TypeError('It needs to be a vector')\n",
    "            \n",
    "        if not self.dimension == v.dimension:\n",
    "            raise ValueError('The vectors needs to be the same size')\n",
    "        \n",
    "        nv = []\n",
    "        \n",
    "        nv = [a - b for (a, b) in zip(self.coordinates, v.coordinates)]\n",
    "            \n",
    "        return Vector(nv)\n",
    "    \n",
    "    def scalar_multiply(self, s):\n",
    "        \n",
    "        if not (isinstance(s, int) or  isinstance(s, float)):\n",
    "            raise TypeError('It needs to be an integer or a float')\n",
    "            \n",
    "        nv = [e * s for e in self.coordinates]\n",
    "                    \n",
    "        return Vector(nv)\n",
    "        "
   ]
  },
  {
   "cell_type": "markdown",
   "metadata": {},
   "source": [
    "#### Data"
   ]
  },
  {
   "cell_type": "code",
   "execution_count": null,
   "metadata": {},
   "outputs": [],
   "source": [
    "a_1 = Vector([8.218, -9.341])\n",
    "a_2 = Vector([-1.129, 2.111])\n",
    "b_1 = Vector([7.119, 8.215])\n",
    "b_2 = Vector([-8.223, 0.878])\n",
    "c_1 = 7.41\n",
    "c_2 = Vector([1.671, -1.012, -0.318])"
   ]
  },
  {
   "cell_type": "markdown",
   "metadata": {},
   "source": [
    "#### Testing error handling just for the coding fun"
   ]
  },
  {
   "cell_type": "code",
   "execution_count": null,
   "metadata": {},
   "outputs": [],
   "source": [
    "a_1.sum(c_2)"
   ]
  },
  {
   "cell_type": "code",
   "execution_count": null,
   "metadata": {},
   "outputs": [],
   "source": [
    "a_2.minus(c_1)"
   ]
  },
  {
   "cell_type": "code",
   "execution_count": null,
   "metadata": {},
   "outputs": [],
   "source": [
    "b_1.scalar_multiply(a_1)"
   ]
  },
  {
   "cell_type": "markdown",
   "metadata": {},
   "source": [
    "#### Examples "
   ]
  },
  {
   "cell_type": "code",
   "execution_count": null,
   "metadata": {},
   "outputs": [],
   "source": [
    "a_answer = a_1.sum(a_2)\n",
    "a_format_answer = tuple([round(x, 3) for x in a_answer.coordinates])\n",
    "print('(A) answer is -> {}'.format(a_format_answer))"
   ]
  },
  {
   "cell_type": "code",
   "execution_count": null,
   "metadata": {},
   "outputs": [],
   "source": [
    "b_answer = b_1.minus(b_2)\n",
    "b_format_answer = tuple([round(x, 3) for x in b_answer.coordinates])\n",
    "print('(B) answer is -> {}'.format(b_format_answer))"
   ]
  },
  {
   "cell_type": "code",
   "execution_count": null,
   "metadata": {},
   "outputs": [],
   "source": [
    "c_answer = c_2.scalar_multiply(c_1)\n",
    "c_format_answer = tuple([round(x, 3) for x in c_answer.coordinates])\n",
    "print('(C) answer is -> {}'.format(c_format_answer))"
   ]
  },
  {
   "cell_type": "markdown",
   "metadata": {},
   "source": [
    "### 6 - Quiz - Coding Magnitude & Direction\n",
    "\n",
    "Modify the Vector Class to allow Coding Magnitude & Direction operations, then test on the vectors below\n",
    "\n",
    "<img src=\"img/quiz_2_6.png\" alt=\"Quiz 2-6\" style=\"width: 400px;\"/>"
   ]
  },
  {
   "cell_type": "code",
   "execution_count": null,
   "metadata": {},
   "outputs": [],
   "source": [
    "class Vector(object):\n",
    "    def __init__(self, coordinates):\n",
    "        try:\n",
    "            if not coordinates:\n",
    "                raise ValueError\n",
    "            self.coordinates = tuple(coordinates)\n",
    "            self.dimension = len(coordinates)\n",
    "\n",
    "        except ValueError:\n",
    "            raise ValueError('The coordinates must be nonempty')\n",
    "\n",
    "        except TypeError:\n",
    "            raise TypeError('The coordinates must be an iterable')\n",
    "\n",
    "\n",
    "    def __str__(self):\n",
    "        return 'Vector: {}'.format(self.coordinates)\n",
    "\n",
    "\n",
    "    def __eq__(self, v):\n",
    "        return self.coordinates == v.coordinates\n",
    "    \n",
    "    def sum(self, v):\n",
    "        if not isinstance(v, Vector):\n",
    "            raise TypeError('It needs to be a vector')\n",
    "            \n",
    "        if not self.dimension == v.dimension:\n",
    "            raise ValueError('The vectors needs to be the same size')\n",
    "        \n",
    "        nv = [a + b for (a, b) in zip(self.coordinates, v.coordinates)]\n",
    "                    \n",
    "        return Vector(nv)\n",
    "\n",
    "    def minus(self, v):\n",
    "        \n",
    "        if not isinstance(v, Vector):\n",
    "            raise TypeError('It needs to be a vector')\n",
    "            \n",
    "        if not self.dimension == v.dimension:\n",
    "            raise ValueError('The vectors needs to be the same size')\n",
    "        \n",
    "        nv = []\n",
    "        \n",
    "        nv = [a - b for (a, b) in zip(self.coordinates, v.coordinates)]\n",
    "            \n",
    "        return Vector(nv)\n",
    "    \n",
    "    def scalar_multiply(self, s):\n",
    "        \n",
    "        if not (isinstance(s, int) or  isinstance(s, float)):\n",
    "            raise TypeError('It needs to be an integer or a float')\n",
    "            \n",
    "        nv = [e * s for e in self.coordinates]\n",
    "                    \n",
    "        return Vector(nv)\n",
    "    \n",
    "    @property\n",
    "    def magnitude(self):\n",
    "        from math import sqrt\n",
    "        return float(sqrt(sum([x**2 for x in self.coordinates])))\n",
    "    \n",
    "    @property\n",
    "    def normalized(self):\n",
    "        from math import sqrt\n",
    "        \n",
    "        if self.magnitude == 0.0:\n",
    "            return None\n",
    "        \n",
    "        return self.scalar_multiply(1.0/self.magnitude)\n",
    "        \n",
    "        "
   ]
  },
  {
   "cell_type": "markdown",
   "metadata": {},
   "source": [
    "#### Data"
   ]
  },
  {
   "cell_type": "code",
   "execution_count": null,
   "metadata": {},
   "outputs": [],
   "source": [
    "a = Vector([-0.221, 7.437])\n",
    "b = Vector([8.813, -1.331, -6.247])\n",
    "c = Vector([5.581, -2.136])\n",
    "d = Vector([1.996, 3.108, -4.554])\n",
    "\n",
    "data = (a, b, c, d)"
   ]
  },
  {
   "cell_type": "markdown",
   "metadata": {},
   "source": [
    "#### Answer"
   ]
  },
  {
   "cell_type": "code",
   "execution_count": null,
   "metadata": {},
   "outputs": [],
   "source": [
    "for v, i in zip(data, range(len(data))):\n",
    "    print(\"{}.\".format(i))\n",
    "    format_direction = tuple([round(x, 3) for x in v.normalized.coordinates])\n",
    "    print(\"The magnitude of vector {0.coordinates} is {0.magnitude:.3f}. And the direction is {1} \\n\".format(v, format_direction))"
   ]
  },
  {
   "cell_type": "markdown",
   "metadata": {},
   "source": [
    "### 7 - Quiz - Coding Dot Product & Angle\n",
    "\n",
    "Modify the Vector Class to allow Dot Product and Angle operations, then test on the vectors below\n",
    "\n",
    "<img src=\"img/quiz_2_8.png\" alt=\"Quiz 2-8\" style=\"width: 400px;\"/>"
   ]
  },
  {
   "cell_type": "code",
   "execution_count": 47,
   "metadata": {},
   "outputs": [],
   "source": [
    "class Vector(object):\n",
    "    def __init__(self, coordinates):\n",
    "        try:\n",
    "            if not coordinates:\n",
    "                raise ValueError\n",
    "            self.coordinates = tuple(coordinates)\n",
    "            self.dimension = len(coordinates)\n",
    "\n",
    "        except ValueError:\n",
    "            raise ValueError('The coordinates must be nonempty')\n",
    "\n",
    "        except TypeError:\n",
    "            raise TypeError('The coordinates must be an iterable')\n",
    "\n",
    "\n",
    "    def __str__(self):\n",
    "        return 'Vector: {}'.format(self.coordinates)\n",
    "\n",
    "\n",
    "    def __eq__(self, v):\n",
    "        return self.coordinates == v.coordinates\n",
    "    \n",
    "    def sum(self, v):\n",
    "        if not isinstance(v, Vector):\n",
    "            raise TypeError('It needs to be a vector')\n",
    "            \n",
    "        if not self.dimension == v.dimension:\n",
    "            raise ValueError('The vectors needs to be the same size')\n",
    "        \n",
    "        nv = [a + b for (a, b) in zip(self.coordinates, v.coordinates)]\n",
    "                    \n",
    "        return Vector(nv)\n",
    "\n",
    "    def minus(self, v):\n",
    "        \n",
    "        if not isinstance(v, Vector):\n",
    "            raise TypeError('It needs to be a vector')\n",
    "            \n",
    "        if not self.dimension == v.dimension:\n",
    "            raise ValueError('The vectors needs to be the same size')\n",
    "        \n",
    "        nv = [a - b for (a, b) in zip(self.coordinates, v.coordinates)]\n",
    "            \n",
    "        return Vector(nv)\n",
    "    \n",
    "    def scalar_multiply(self, s):\n",
    "        \n",
    "        if not (isinstance(s, int) or  isinstance(s, float)):\n",
    "            raise TypeError('It needs to be an integer or a float')\n",
    "            \n",
    "        nv = [e * s for e in self.coordinates]\n",
    "                    \n",
    "        return Vector(nv)\n",
    "    \n",
    "    def dot_multiply(self, v):\n",
    "        if not isinstance(v, Vector):\n",
    "            raise TypeError('It needs to be a vector')\n",
    "            \n",
    "        if not self.dimension == v.dimension:\n",
    "            raise ValueError('The vectors needs to be the same size')\n",
    "        \n",
    "        product = [a * b for (a, b) in zip(self.coordinates, v.coordinates)]\n",
    "        \n",
    "        return sum(product)\n",
    "    \n",
    "    def angle(self, v):\n",
    "        if not isinstance(v, Vector):\n",
    "            raise TypeError('It needs to be a vector')\n",
    "            \n",
    "        if not self.dimension == v.dimension:\n",
    "            raise ValueError('The vectors needs to be the same size')\n",
    "        \n",
    "        top = self.dot_multiply(v)\n",
    "        bottom = self.magnitude * v.magnitude\n",
    "        \n",
    "        from math import acos\n",
    "        \n",
    "        return acos(top/bottom)\n",
    "        \n",
    "    @property\n",
    "    def magnitude(self):\n",
    "        from math import sqrt\n",
    "        return float(sqrt(sum([x**2 for x in self.coordinates])))\n",
    "    \n",
    "    @property\n",
    "    def normalized(self):\n",
    "        from math import sqrt\n",
    "        \n",
    "        if self.magnitude == 0.0:\n",
    "            return None\n",
    "        \n",
    "        return self.scalar_multiply(1.0/self.magnitude)\n",
    "        \n",
    "        "
   ]
  },
  {
   "cell_type": "markdown",
   "metadata": {},
   "source": [
    "#### Data"
   ]
  },
  {
   "cell_type": "code",
   "execution_count": 48,
   "metadata": {},
   "outputs": [],
   "source": [
    "a_1 = Vector([7.887, 4.138])\n",
    "a_2 = Vector([-8.802, 6.776])\n",
    "\n",
    "b_1 = Vector([-5.955, -4.904, -1.874])\n",
    "b_2 = Vector([-4.496, -8.755, 7.103])\n",
    "\n",
    "c_1 = Vector([3.183, -7.627])\n",
    "c_2 = Vector([-2.668, 5.319])\n",
    "\n",
    "d_1 = Vector([7.350, 0.221, 5.188])\n",
    "d_2 = Vector([2.751, 8.259, 3.985])"
   ]
  },
  {
   "cell_type": "markdown",
   "metadata": {},
   "source": [
    "#### Answer"
   ]
  },
  {
   "cell_type": "code",
   "execution_count": 49,
   "metadata": {},
   "outputs": [
    {
     "name": "stdout",
     "output_type": "stream",
     "text": [
      "The answer to question a) is -41.382\n",
      "The answer to question b) is 56.397\n",
      "The answer to question c) is 3.072\n",
      "The answer to question d) is 60.276\n"
     ]
    }
   ],
   "source": [
    "a_ans = round(a_1.dot_multiply(a_2), 3)\n",
    "print(\"The answer to question a) is\", a_ans)\n",
    "\n",
    "b_ans = round(b_1.dot_multiply(b_2), 3)\n",
    "print(\"The answer to question b) is\", b_ans)\n",
    "\n",
    "c_ans = round(c_1.angle(c_2), 3)\n",
    "print(\"The answer to question c) is\", c_ans)\n",
    "\n",
    "from math import degrees\n",
    "d_ans = round(degrees(d_1.angle(d_2)), 3)\n",
    "print(\"The answer to question d) is\", d_ans)"
   ]
  },
  {
   "cell_type": "markdown",
   "metadata": {},
   "source": [
    "### 10 - Quiz - Checking parallel orthogonal \n",
    "\n",
    "Modify the Vector Class to allow to check if two vectors are parallel ans orthogonal to each other, then test on the vectors below\n",
    "\n",
    "<img src=\"img/quiz_2_10.png\" alt=\"Quiz 2-10\" style=\"width: 400px;\"/>"
   ]
  },
  {
   "cell_type": "code",
   "execution_count": 96,
   "metadata": {},
   "outputs": [],
   "source": [
    "from decimal import Decimal\n",
    "from math import sqrt, acos, pi\n",
    "\n",
    "class Vector(object):\n",
    "    \n",
    "    CANNOT_NORMALIZE_ZERO_VECTOR_MSG = 'Cannot normalize the zero vector'\n",
    "    \n",
    "    def __init__(self, coordinates):\n",
    "        try:\n",
    "            if not coordinates:\n",
    "                raise ValueError\n",
    "            self.coordinates = tuple([Decimal(x) for x in coordinates])\n",
    "            self.dimension = len(coordinates)\n",
    "\n",
    "        except ValueError:\n",
    "            raise ValueError('The coordinates must be nonempty')\n",
    "\n",
    "        except TypeError:\n",
    "            raise TypeError('The coordinates must be an iterable')\n",
    "\n",
    "\n",
    "    def __str__(self):\n",
    "        return 'Vector: {}'.format(self.coordinates)\n",
    "\n",
    "\n",
    "    def __eq__(self, v):\n",
    "        return self.coordinates == v.coordinates\n",
    "    \n",
    "    def test_for_operation(self, v)    :\n",
    "        if not isinstance(v, Vector):\n",
    "            raise TypeError('It needs to be a vector')\n",
    "            \n",
    "        if not self.dimension == v.dimension:\n",
    "            raise ValueError('The vectors needs to be the same size')\n",
    "        \n",
    "    \n",
    "    def sum(self, v):\n",
    "        test_for_operation(self, v\n",
    "        \n",
    "        nv = [a + b for (a, b) in zip(self.coordinates, v.coordinates)]\n",
    "                    \n",
    "        return Vector(nv)\n",
    "\n",
    "    \n",
    "    def minus(self, v):\n",
    "        \n",
    "        if not isinstance(v, Vector):\n",
    "            raise TypeError('It needs to be a vector')\n",
    "            \n",
    "        if not self.dimension == v.dimension:\n",
    "            raise ValueError('The vectors needs to be the same size')\n",
    "        \n",
    "        nv = [a - b for (a, b) in zip(self.coordinates, v.coordinates)]\n",
    "            \n",
    "        return Vector(nv)\n",
    "    \n",
    "    \n",
    "    def scalar_multiply(self, s):\n",
    "        \n",
    "        if not (isinstance(s, int) or isinstance(s, float) or isinstance(s, Decimal)):\n",
    "            raise TypeError('It needs to be an integer or a float')\n",
    "            \n",
    "        nv = [e * s for e in self.coordinates]\n",
    "                    \n",
    "        return Vector(nv)\n",
    "    \n",
    "    \n",
    "    def dot_multiply(self, v):\n",
    "        if not isinstance(v, Vector):\n",
    "            raise TypeError('It needs to be a vector')\n",
    "            \n",
    "        if not self.dimension == v.dimension:\n",
    "            raise ValueError('The vectors needs to be the same size')\n",
    "        \n",
    "        product = [a * b for (a, b) in zip(self.coordinates, v.coordinates)]\n",
    "        \n",
    "        return sum(product)\n",
    "    \n",
    "    \n",
    "    def angle_with(self, v, in_degrees=False):\n",
    "        try:\n",
    "            u1 = self.normalized\n",
    "            u2 = v.normalized\n",
    "            angle_in_radians = acos(u1.dot_multiply(u2))\n",
    "\n",
    "            if in_degrees:\n",
    "                degrees_per_radian = 180. / pi\n",
    "                return angle_in_radians * degrees_per_radian\n",
    "            else:\n",
    "                return angle_in_radians\n",
    "\n",
    "        except Exception as e:\n",
    "            if str(e) == self.CANNOT_NORMALIZE_ZERO_VECTOR_MSG:\n",
    "                raise Exception('Cannot compute an angle with the zero vector')\n",
    "            else:\n",
    "                raise e\n",
    "    \n",
    "    \n",
    "    def is_zero(self, tolerance=Decimal(1e-10)):\n",
    "        return self.magnitude < tolerance\n",
    "    \n",
    "    \n",
    "    def is_parallel(self, v):\n",
    "        if not isinstance(v, Vector):\n",
    "            raise TypeError('It needs to be a vector')\n",
    "            \n",
    "        if not self.dimension == v.dimension:\n",
    "            raise ValueError('The vectors needs to be the same size')\n",
    "                    \n",
    "        return self.is_zero() or v.is_zero() or self.dot_multiply(v) == 0 or self.angle_with(v) == pi\n",
    "        \n",
    "    \n",
    "    def is_orthogonal(self, v, tolerance=Decimal(1e-10)):\n",
    "        if not isinstance(v, Vector):\n",
    "            raise TypeError('It needs to be a vector')\n",
    "            \n",
    "        if not self.dimension == v.dimension:\n",
    "            raise ValueError('The vectors needs to be the same size')\n",
    "            \n",
    "        return abs(self.dot_multiply(v)) < tolerance\n",
    "    \n",
    "    \n",
    "    @property\n",
    "    def magnitude(self):\n",
    "        return Decimal(sum(Decimal(i ** 2) for i in self.coordinates)).sqrt()\n",
    "    \n",
    "    \n",
    "    @property\n",
    "    def normalized(self):\n",
    "        try:\n",
    "            magnitude = self.magnitude\n",
    "            return self.scalar_multiply(Decimal('1.0')/magnitude)\n",
    "        except ZeroDivisionError:\n",
    "            raise Exception(self.CANNOT_NORMALIZE_ZERO_VECTOR_MSG)\n",
    "        \n",
    "        "
   ]
  },
  {
   "cell_type": "markdown",
   "metadata": {},
   "source": [
    "#### Data"
   ]
  },
  {
   "cell_type": "code",
   "execution_count": 97,
   "metadata": {},
   "outputs": [],
   "source": [
    "a_1 = Vector([-7.579, -7.88])\n",
    "a_2 = Vector([22.737, 23.64])\n",
    "\n",
    "b_1 = Vector([-2.029, 9.97, 4.172])\n",
    "b_2 = Vector([-9.231, -6.639, -7.245])\n",
    "\n",
    "c_1 = Vector([-2.328, -7.284, -1.214])\n",
    "c_2 = Vector([-1.821, 1.072, -2.94])\n",
    "\n",
    "d_1 = Vector([2.118, 4.827])\n",
    "d_2 = Vector([0, 0])\n",
    "\n",
    "data = ((a_1, a_2), (b_1, b_2), (c_1, c_2), (d_1, d_2))"
   ]
  },
  {
   "cell_type": "markdown",
   "metadata": {},
   "source": [
    "#### Answer"
   ]
  },
  {
   "cell_type": "code",
   "execution_count": 98,
   "metadata": {},
   "outputs": [
    {
     "name": "stdout",
     "output_type": "stream",
     "text": [
      "\n",
      "\n",
      "The two vectors are parallel\n",
      "The two vectors are not orthogonal\n",
      "\n",
      "\n",
      "The two vectors are not parallel\n",
      "The two vectors are not orthogonal\n",
      "\n",
      "\n",
      "The two vectors are not parallel\n",
      "The two vectors are orthogonal\n",
      "\n",
      "\n",
      "The two vectors are parallel\n",
      "The two vectors are orthogonal\n"
     ]
    }
   ],
   "source": [
    "def print_quiz_10(v1, v2):\n",
    "\n",
    "    if v1.is_parallel(v2):\n",
    "        print(\"The two vectors are parallel\")\n",
    "    else:\n",
    "        print(\"The two vectors are not parallel\")\n",
    "        \n",
    "    if v1.is_orthogonal(v2):\n",
    "        print(\"The two vectors are orthogonal\")\n",
    "    else:\n",
    "        print(\"The two vectors are not orthogonal\")\n",
    "        \n",
    "        \n",
    "for v1, v2 in data:\n",
    "    print('\\n')\n",
    "    print_quiz_10(v1, v2)"
   ]
  },
  {
   "cell_type": "code",
   "execution_count": null,
   "metadata": {},
   "outputs": [],
   "source": []
  }
 ],
 "metadata": {
  "kernelspec": {
   "display_name": "Python 3",
   "language": "python",
   "name": "python3"
  },
  "language_info": {
   "codemirror_mode": {
    "name": "ipython",
    "version": 3
   },
   "file_extension": ".py",
   "mimetype": "text/x-python",
   "name": "python",
   "nbconvert_exporter": "python",
   "pygments_lexer": "ipython3",
   "version": "3.7.0"
  }
 },
 "nbformat": 4,
 "nbformat_minor": 2
}
